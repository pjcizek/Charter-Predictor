{
 "cells": [
  {
   "cell_type": "code",
   "execution_count": 3,
   "metadata": {},
   "outputs": [],
   "source": [
    "import csv \n",
    "import requests \n",
    "import xml.etree.ElementTree as ET \n",
    "import xmltodict\n",
    "import pandas as pd\n",
    "import json\n",
    "import requests\n",
    "import datetime"
   ]
  },
  {
   "cell_type": "code",
   "execution_count": 6,
   "metadata": {},
   "outputs": [],
   "source": [
    "master_list= pd.read_excel('C:/Users/pjciz/Dropbox/CharterChurn/CALIFORNIA/pubschls.xls', sheet_name='schools', header=0)"
   ]
  },
  {
   "cell_type": "code",
   "execution_count": 9,
   "metadata": {},
   "outputs": [],
   "source": [
    "charter_list = master_list.loc[master_list['Charter'] == 'Y']"
   ]
  },
  {
   "cell_type": "code",
   "execution_count": 10,
   "metadata": {},
   "outputs": [],
   "source": [
    "charter_list = charter_list[['CDSCode','Latitude', 'Longitude']]"
   ]
  },
  {
   "cell_type": "code",
   "execution_count": 11,
   "metadata": {},
   "outputs": [],
   "source": [
    "charter_list = charter_list.reset_index(drop=True)"
   ]
  },
  {
   "cell_type": "code",
   "execution_count": 6,
   "metadata": {},
   "outputs": [],
   "source": [
    "schools_of_interest = []"
   ]
  },
  {
   "cell_type": "code",
   "execution_count": 7,
   "metadata": {},
   "outputs": [
    {
     "name": "stdout",
     "output_type": "stream",
     "text": [
      "1951\n"
     ]
    }
   ],
   "source": [
    "number_of_schools = len(charter_list)\n",
    "print(number_of_schools)"
   ]
  },
  {
   "cell_type": "code",
   "execution_count": 16,
   "metadata": {},
   "outputs": [
    {
     "name": "stdout",
     "output_type": "stream",
     "text": [
      "1148\n"
     ]
    }
   ],
   "source": [
    "city = master_list['City']\n",
    "city.describe()\n",
    "city = city.drop_duplicates()\n",
    "city = city.reset_index(drop=True)\n",
    "city = city.dropna()\n",
    "city = pd.DataFrame(city)\n",
    "city = city[\"City\"].str.split(\" \", n = 2, expand = True) \n",
    "city = city.rename(columns={0: \"First\", 1: \"Second\", 2: \"Third\"})\n",
    "city.loc[city['Second'].notnull() & city['Third'].notnull() ,'final'] = city['First'] +'+'+ city['Second'] +'+'+ city['Third']\n",
    "city.loc[city['Second'].notnull() & city['Third'].isna() ,'final'] = city['First'] +'+'+ city['Second']\n",
    "city.loc[city['Second'].isna() & city['Third'].isna() ,'final'] = city['First']\n",
    "city_len = len(city)\n",
    "print(city_len)"
   ]
  },
  {
   "cell_type": "code",
   "execution_count": 17,
   "metadata": {},
   "outputs": [
    {
     "data": {
      "text/html": [
       "<div>\n",
       "<style scoped>\n",
       "    .dataframe tbody tr th:only-of-type {\n",
       "        vertical-align: middle;\n",
       "    }\n",
       "\n",
       "    .dataframe tbody tr th {\n",
       "        vertical-align: top;\n",
       "    }\n",
       "\n",
       "    .dataframe thead th {\n",
       "        text-align: right;\n",
       "    }\n",
       "</style>\n",
       "<table border=\"1\" class=\"dataframe\">\n",
       "  <thead>\n",
       "    <tr style=\"text-align: right;\">\n",
       "      <th></th>\n",
       "      <th>First</th>\n",
       "      <th>Second</th>\n",
       "      <th>Third</th>\n",
       "      <th>final</th>\n",
       "    </tr>\n",
       "  </thead>\n",
       "  <tbody>\n",
       "    <tr>\n",
       "      <th>0</th>\n",
       "      <td>Hayward</td>\n",
       "      <td>None</td>\n",
       "      <td>None</td>\n",
       "      <td>Hayward</td>\n",
       "    </tr>\n",
       "    <tr>\n",
       "      <th>1</th>\n",
       "      <td>Newark</td>\n",
       "      <td>None</td>\n",
       "      <td>None</td>\n",
       "      <td>Newark</td>\n",
       "    </tr>\n",
       "    <tr>\n",
       "      <th>2</th>\n",
       "      <td>Oakland</td>\n",
       "      <td>None</td>\n",
       "      <td>None</td>\n",
       "      <td>Oakland</td>\n",
       "    </tr>\n",
       "    <tr>\n",
       "      <th>3</th>\n",
       "      <td>Berkeley</td>\n",
       "      <td>None</td>\n",
       "      <td>None</td>\n",
       "      <td>Berkeley</td>\n",
       "    </tr>\n",
       "    <tr>\n",
       "      <th>4</th>\n",
       "      <td>San</td>\n",
       "      <td>Leandro</td>\n",
       "      <td>None</td>\n",
       "      <td>San+Leandro</td>\n",
       "    </tr>\n",
       "    <tr>\n",
       "      <th>5</th>\n",
       "      <td>No</td>\n",
       "      <td>Data</td>\n",
       "      <td>None</td>\n",
       "      <td>No+Data</td>\n",
       "    </tr>\n",
       "    <tr>\n",
       "      <th>6</th>\n",
       "      <td>Union</td>\n",
       "      <td>City</td>\n",
       "      <td>None</td>\n",
       "      <td>Union+City</td>\n",
       "    </tr>\n",
       "    <tr>\n",
       "      <th>7</th>\n",
       "      <td>HAYWARD</td>\n",
       "      <td>None</td>\n",
       "      <td>None</td>\n",
       "      <td>HAYWARD</td>\n",
       "    </tr>\n",
       "    <tr>\n",
       "      <th>8</th>\n",
       "      <td>Dublin</td>\n",
       "      <td>None</td>\n",
       "      <td>None</td>\n",
       "      <td>Dublin</td>\n",
       "    </tr>\n",
       "    <tr>\n",
       "      <th>9</th>\n",
       "      <td>Fremont</td>\n",
       "      <td>None</td>\n",
       "      <td>None</td>\n",
       "      <td>Fremont</td>\n",
       "    </tr>\n",
       "  </tbody>\n",
       "</table>\n",
       "</div>"
      ],
      "text/plain": [
       "      First   Second Third        final\n",
       "0   Hayward     None  None      Hayward\n",
       "1    Newark     None  None       Newark\n",
       "2   Oakland     None  None      Oakland\n",
       "3  Berkeley     None  None     Berkeley\n",
       "4       San  Leandro  None  San+Leandro\n",
       "5        No     Data  None      No+Data\n",
       "6     Union     City  None   Union+City\n",
       "7   HAYWARD     None  None      HAYWARD\n",
       "8    Dublin     None  None       Dublin\n",
       "9   Fremont     None  None      Fremont"
      ]
     },
     "execution_count": 17,
     "metadata": {},
     "output_type": "execute_result"
    }
   ],
   "source": [
    "city[0:10]"
   ]
  },
  {
   "cell_type": "code",
   "execution_count": null,
   "metadata": {},
   "outputs": [],
   "source": [
    "schools_of_interest = []"
   ]
  },
  {
   "cell_type": "code",
   "execution_count": null,
   "metadata": {},
   "outputs": [],
   "source": [
    "for i in range(0, city_len):\n",
    "    try: \n",
    "        school_city = city['final'].loc[i]\n",
    "        print(school_city)\n",
    "        url = \"https://api.greatschools.org/schools/nearby?key=64f623b67f0204ec3574e4896f3085d8&city={}&state=CA&schoolType=public\".format(school_city)\n",
    "\n",
    "        response = requests.get(url)\n",
    "\n",
    "        doc = xmltodict.parse(response.text)\n",
    "        schools = doc['schools']\n",
    "        school = schools['school']\n",
    "\n",
    "        for item in school:\n",
    "            schools_of_interest.append(item['gsId'])\n",
    "        \n",
    "    except:\n",
    "        pass"
   ]
  },
  {
   "cell_type": "code",
   "execution_count": null,
   "metadata": {},
   "outputs": [],
   "source": [
    "schools_of_interest = pd.DataFrame(schools_of_interest) \n",
    "schools_of_interest = schools_of_interest.drop_duplicates()\n",
    "schools_of_interest.to_pickle(\"Schools_of_Interest2.pkl\")"
   ]
  },
  {
   "cell_type": "code",
   "execution_count": null,
   "metadata": {},
   "outputs": [],
   "source": [
    "schools_of_interest.to_pickle(\"Schools_of_Interest2.pkl\")"
   ]
  },
  {
   "cell_type": "code",
   "execution_count": null,
   "metadata": {},
   "outputs": [],
   "source": [
    "schools_of_interest = schools_of_interest.rename(columns={0: \"gsId\"})"
   ]
  },
  {
   "cell_type": "code",
   "execution_count": 18,
   "metadata": {},
   "outputs": [],
   "source": [
    "schools_of_interest = pd.read_pickle(\"Schools_of_Interest2.pkl\")"
   ]
  },
  {
   "cell_type": "code",
   "execution_count": 2,
   "metadata": {},
   "outputs": [],
   "source": [
    "school_rating_set = pd.DataFrame(columns=list('ABCDEF'))"
   ]
  },
  {
   "cell_type": "code",
   "execution_count": 5,
   "metadata": {},
   "outputs": [],
   "source": [
    "for i in range(7500, 8608):\n",
    "    try: \n",
    "        schoolid = schools_of_interest[0][i]\n",
    "        url = \"https://api.greatschools.org/schools/CA/{}?key=64f623b67f0204ec3574e4896f3085d8\".format(schoolid)\n",
    "    \n",
    "        response = requests.get(url)\n",
    "    \n",
    "        doc = xmltodict.parse(response.text)\n",
    "        school = doc['school']\n",
    "\n",
    "        school_rating_set.loc[i] = [school['gsRating'],school['parentRating'],school['enrollment'], school['ncesId'], school['gsId'], school['name']]\n",
    "    \n",
    "    except:\n",
    "        pass"
   ]
  },
  {
   "cell_type": "code",
   "execution_count": 6,
   "metadata": {},
   "outputs": [],
   "source": [
    "school_rating_set.to_pickle(\"Schools_Set_Out_7500_8608.pkl\")"
   ]
  },
  {
   "cell_type": "code",
   "execution_count": 7,
   "metadata": {},
   "outputs": [],
   "source": [
    "school_rating_1 = pd.read_pickle(\"Schools_Set_Out_0_499.pkl\")\n",
    "school_rating_2 = pd.read_pickle(\"Schools_Set_Out_500_2900.pkl\")\n",
    "school_rating_3 = pd.read_pickle(\"Schools_Set_Out_2900_4800.pkl\")\n",
    "school_rating_4 = pd.read_pickle(\"Schools_Set_Out_4800_7500.pkl\")\n",
    "school_rating_5 = pd.read_pickle(\"Schools_Set_Out_7500_8608.pkl\")"
   ]
  },
  {
   "cell_type": "code",
   "execution_count": 9,
   "metadata": {},
   "outputs": [],
   "source": [
    "school_rating_a = school_rating_1.append(school_rating_2)\n",
    "school_rating_b = school_rating_a.append(school_rating_3)\n",
    "school_rating_c = school_rating_b.append(school_rating_4)\n",
    "school_rating_d = school_rating_c.append(school_rating_5)\n"
   ]
  },
  {
   "cell_type": "code",
   "execution_count": 10,
   "metadata": {},
   "outputs": [],
   "source": [
    "school_rating = school_rating_d.reset_index(drop=True)"
   ]
  },
  {
   "cell_type": "code",
   "execution_count": 11,
   "metadata": {},
   "outputs": [],
   "source": [
    "school_rating = school_rating.rename(columns={\"A\": \"gs_Rating\", \"B\": \"parentRating\", \"C\": \"enrollment\", \"D\": \"ncesId\", \"E\": \"gsId\", \"F\" : \"name\"})"
   ]
  },
  {
   "cell_type": "code",
   "execution_count": 12,
   "metadata": {},
   "outputs": [],
   "source": [
    "school_rating.to_pickle(\"Schools_Ratings_Final.pkl\")"
   ]
  },
  {
   "cell_type": "code",
   "execution_count": 27,
   "metadata": {},
   "outputs": [],
   "source": [
    "school_rating = pd.read_pickle(\"Schools_Ratings_Final.pkl\")"
   ]
  },
  {
   "cell_type": "code",
   "execution_count": 30,
   "metadata": {},
   "outputs": [],
   "source": [
    "Full_Set = pd.read_pickle(\"All_Schools_Analysis.pkl\")"
   ]
  },
  {
   "cell_type": "code",
   "execution_count": 31,
   "metadata": {},
   "outputs": [],
   "source": [
    "Full_Set['ncesId'] = Full_Set['NCESDist'] + Full_Set['NCESSchool']"
   ]
  },
  {
   "cell_type": "code",
   "execution_count": 32,
   "metadata": {},
   "outputs": [],
   "source": [
    "Charter_Schools_Final = pd.read_pickle(\"Charter_Schools.pkl\")"
   ]
  },
  {
   "cell_type": "code",
   "execution_count": 25,
   "metadata": {},
   "outputs": [],
   "source": [
    "Charter_Schools = Full_Set.loc[Full_Set['Charter'] == \"Y\"]"
   ]
  },
  {
   "cell_type": "code",
   "execution_count": 27,
   "metadata": {},
   "outputs": [],
   "source": [
    "Charter_Schools2 = Charter_Schools[['School', 'CDS_CODE', 'ncesId', 'Latitude', 'Longitude']]"
   ]
  },
  {
   "cell_type": "code",
   "execution_count": 28,
   "metadata": {},
   "outputs": [],
   "source": [
    "Charter_Schools3= Charter_Schools2.drop_duplicates(subset='CDS_CODE')"
   ]
  },
  {
   "cell_type": "code",
   "execution_count": 29,
   "metadata": {},
   "outputs": [],
   "source": [
    "Public_Schools = Full_Set.merge(school_rating, left_on='ncesId', right_on='ncesId')"
   ]
  },
  {
   "cell_type": "code",
   "execution_count": 30,
   "metadata": {},
   "outputs": [],
   "source": [
    "Public_Schools2 = Public_Schools.drop_duplicates(subset='CDS_CODE')"
   ]
  },
  {
   "cell_type": "code",
   "execution_count": 31,
   "metadata": {},
   "outputs": [],
   "source": [
    "Public_Schools3 = Public_Schools2[['School', 'CDS_CODE', 'ncesId', 'Latitude', 'Longitude', 'enrollment', 'gs_Rating', 'parentRating']]"
   ]
  },
  {
   "cell_type": "code",
   "execution_count": 32,
   "metadata": {},
   "outputs": [],
   "source": [
    "Public_Schools_Final = Public_Schools3.reset_index(drop=True)"
   ]
  },
  {
   "cell_type": "code",
   "execution_count": 33,
   "metadata": {},
   "outputs": [],
   "source": [
    "Charter_Schools_Final = Charter_Schools3.reset_index(drop=True)"
   ]
  },
  {
   "cell_type": "code",
   "execution_count": 35,
   "metadata": {},
   "outputs": [],
   "source": [
    "Public_Schools_Final.to_pickle(\"Public_Schools.pkl\")"
   ]
  },
  {
   "cell_type": "code",
   "execution_count": 34,
   "metadata": {},
   "outputs": [],
   "source": [
    "Charter_Schools_Final.to_pickle(\"Charter_Schools.pkl\")"
   ]
  },
  {
   "cell_type": "code",
   "execution_count": 33,
   "metadata": {},
   "outputs": [],
   "source": [
    "Charter_Schools_Final = pd.read_pickle(\"Charter_Schools.pkl\")"
   ]
  },
  {
   "cell_type": "code",
   "execution_count": 34,
   "metadata": {},
   "outputs": [
    {
     "data": {
      "text/html": [
       "<div>\n",
       "<style scoped>\n",
       "    .dataframe tbody tr th:only-of-type {\n",
       "        vertical-align: middle;\n",
       "    }\n",
       "\n",
       "    .dataframe tbody tr th {\n",
       "        vertical-align: top;\n",
       "    }\n",
       "\n",
       "    .dataframe thead th {\n",
       "        text-align: right;\n",
       "    }\n",
       "</style>\n",
       "<table border=\"1\" class=\"dataframe\">\n",
       "  <thead>\n",
       "    <tr style=\"text-align: right;\">\n",
       "      <th></th>\n",
       "      <th>School</th>\n",
       "      <th>CDS_CODE</th>\n",
       "      <th>ncesId</th>\n",
       "      <th>Latitude</th>\n",
       "      <th>Longitude</th>\n",
       "    </tr>\n",
       "  </thead>\n",
       "  <tbody>\n",
       "    <tr>\n",
       "      <th>0</th>\n",
       "      <td>FAME Public Charter</td>\n",
       "      <td>01100170109835</td>\n",
       "      <td>069105110546</td>\n",
       "      <td>37.521436</td>\n",
       "      <td>-121.99391</td>\n",
       "    </tr>\n",
       "    <tr>\n",
       "      <th>1</th>\n",
       "      <td>Envision Academy for Arts &amp; Technology</td>\n",
       "      <td>01100170112607</td>\n",
       "      <td>069105110947</td>\n",
       "      <td>37.804520</td>\n",
       "      <td>-122.26815</td>\n",
       "    </tr>\n",
       "    <tr>\n",
       "      <th>2</th>\n",
       "      <td>Aspire California College Preparatory Academy</td>\n",
       "      <td>01100170118489</td>\n",
       "      <td>069105112283</td>\n",
       "      <td>37.868991</td>\n",
       "      <td>-122.27844</td>\n",
       "    </tr>\n",
       "    <tr>\n",
       "      <th>3</th>\n",
       "      <td>Community School for Creative Education</td>\n",
       "      <td>01100170123968</td>\n",
       "      <td>069105112844</td>\n",
       "      <td>37.784648</td>\n",
       "      <td>-122.23863</td>\n",
       "    </tr>\n",
       "    <tr>\n",
       "      <th>4</th>\n",
       "      <td>Yu Ming Charter</td>\n",
       "      <td>01100170124172</td>\n",
       "      <td>069105112901</td>\n",
       "      <td>37.847375</td>\n",
       "      <td>-122.28356</td>\n",
       "    </tr>\n",
       "  </tbody>\n",
       "</table>\n",
       "</div>"
      ],
      "text/plain": [
       "                                          School        CDS_CODE  \\\n",
       "0                            FAME Public Charter  01100170109835   \n",
       "1         Envision Academy for Arts & Technology  01100170112607   \n",
       "2  Aspire California College Preparatory Academy  01100170118489   \n",
       "3        Community School for Creative Education  01100170123968   \n",
       "4                                Yu Ming Charter  01100170124172   \n",
       "\n",
       "         ncesId   Latitude   Longitude  \n",
       "0  069105110546  37.521436  -121.99391  \n",
       "1  069105110947  37.804520  -122.26815  \n",
       "2  069105112283  37.868991  -122.27844  \n",
       "3  069105112844  37.784648  -122.23863  \n",
       "4  069105112901  37.847375  -122.28356  "
      ]
     },
     "execution_count": 34,
     "metadata": {},
     "output_type": "execute_result"
    }
   ],
   "source": [
    "Charter_Schools_Final.head()"
   ]
  },
  {
   "cell_type": "code",
   "execution_count": 36,
   "metadata": {},
   "outputs": [],
   "source": [
    "Public_Schools_Final = pd.read_pickle(\"Public_Schools.pkl\")"
   ]
  },
  {
   "cell_type": "code",
   "execution_count": 37,
   "metadata": {},
   "outputs": [
    {
     "data": {
      "text/html": [
       "<div>\n",
       "<style scoped>\n",
       "    .dataframe tbody tr th:only-of-type {\n",
       "        vertical-align: middle;\n",
       "    }\n",
       "\n",
       "    .dataframe tbody tr th {\n",
       "        vertical-align: top;\n",
       "    }\n",
       "\n",
       "    .dataframe thead th {\n",
       "        text-align: right;\n",
       "    }\n",
       "</style>\n",
       "<table border=\"1\" class=\"dataframe\">\n",
       "  <thead>\n",
       "    <tr style=\"text-align: right;\">\n",
       "      <th></th>\n",
       "      <th>School</th>\n",
       "      <th>CDS_CODE</th>\n",
       "      <th>ncesId</th>\n",
       "      <th>Latitude</th>\n",
       "      <th>Longitude</th>\n",
       "      <th>enrollment</th>\n",
       "      <th>gs_Rating</th>\n",
       "      <th>parentRating</th>\n",
       "    </tr>\n",
       "  </thead>\n",
       "  <tbody>\n",
       "    <tr>\n",
       "      <th>0</th>\n",
       "      <td>Alameda Science and Technology Institute</td>\n",
       "      <td>01611190106401</td>\n",
       "      <td>060177010547</td>\n",
       "      <td>37.780753</td>\n",
       "      <td>-122.27930</td>\n",
       "      <td>175</td>\n",
       "      <td>9</td>\n",
       "      <td>3</td>\n",
       "    </tr>\n",
       "    <tr>\n",
       "      <th>1</th>\n",
       "      <td>Ruby Bridges Elementary</td>\n",
       "      <td>01611190111765</td>\n",
       "      <td>060177011549</td>\n",
       "      <td>37.781834</td>\n",
       "      <td>-122.28614</td>\n",
       "      <td>535</td>\n",
       "      <td>3</td>\n",
       "      <td>4</td>\n",
       "    </tr>\n",
       "    <tr>\n",
       "      <th>2</th>\n",
       "      <td>Maya Lin</td>\n",
       "      <td>01611190126656</td>\n",
       "      <td>060177013107</td>\n",
       "      <td>37.772724</td>\n",
       "      <td>-122.27189</td>\n",
       "      <td>304</td>\n",
       "      <td>5</td>\n",
       "      <td>5</td>\n",
       "    </tr>\n",
       "    <tr>\n",
       "      <th>3</th>\n",
       "      <td>Alameda High</td>\n",
       "      <td>01611190130229</td>\n",
       "      <td>060177000041</td>\n",
       "      <td>37.764958</td>\n",
       "      <td>-122.24593</td>\n",
       "      <td>1853</td>\n",
       "      <td>9</td>\n",
       "      <td>3</td>\n",
       "    </tr>\n",
       "    <tr>\n",
       "      <th>4</th>\n",
       "      <td>Encinal Junior/Senior High</td>\n",
       "      <td>01611190132142</td>\n",
       "      <td>060177000045</td>\n",
       "      <td>37.772765</td>\n",
       "      <td>-122.28900</td>\n",
       "      <td>1336</td>\n",
       "      <td>6</td>\n",
       "      <td>4</td>\n",
       "    </tr>\n",
       "  </tbody>\n",
       "</table>\n",
       "</div>"
      ],
      "text/plain": [
       "                                     School        CDS_CODE        ncesId  \\\n",
       "0  Alameda Science and Technology Institute  01611190106401  060177010547   \n",
       "1                   Ruby Bridges Elementary  01611190111765  060177011549   \n",
       "2                                  Maya Lin  01611190126656  060177013107   \n",
       "3                              Alameda High  01611190130229  060177000041   \n",
       "4                Encinal Junior/Senior High  01611190132142  060177000045   \n",
       "\n",
       "    Latitude   Longitude enrollment gs_Rating parentRating  \n",
       "0  37.780753  -122.27930        175         9            3  \n",
       "1  37.781834  -122.28614        535         3            4  \n",
       "2  37.772724  -122.27189        304         5            5  \n",
       "3  37.764958  -122.24593       1853         9            3  \n",
       "4  37.772765  -122.28900       1336         6            4  "
      ]
     },
     "execution_count": 37,
     "metadata": {},
     "output_type": "execute_result"
    }
   ],
   "source": [
    "Public_Schools_Final.head()"
   ]
  },
  {
   "cell_type": "code",
   "execution_count": null,
   "metadata": {},
   "outputs": [],
   "source": []
  }
 ],
 "metadata": {
  "kernelspec": {
   "display_name": "Python 3",
   "language": "python",
   "name": "python3"
  },
  "language_info": {
   "codemirror_mode": {
    "name": "ipython",
    "version": 3
   },
   "file_extension": ".py",
   "mimetype": "text/x-python",
   "name": "python",
   "nbconvert_exporter": "python",
   "pygments_lexer": "ipython3",
   "version": "3.7.5"
  }
 },
 "nbformat": 4,
 "nbformat_minor": 4
}
