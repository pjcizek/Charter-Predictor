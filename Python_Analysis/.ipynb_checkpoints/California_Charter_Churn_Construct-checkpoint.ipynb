{
 "cells": [
  {
   "cell_type": "markdown",
   "metadata": {},
   "source": [
    "Consolidate and clean enrollment data from California Department of Education - Data included in repository also available at: https://www.cde.ca.gov/ds/sd/sd/"
   ]
  },
  {
   "cell_type": "code",
   "execution_count": 2,
   "metadata": {},
   "outputs": [],
   "source": [
    "import pandas as pd\n",
    "import warnings\n",
    "import numpy as np\n",
    "warnings.filterwarnings('ignore')"
   ]
  },
  {
   "cell_type": "markdown",
   "metadata": {},
   "source": [
    "Enrollment - clean and standardize"
   ]
  },
  {
   "cell_type": "code",
   "execution_count": 4,
   "metadata": {},
   "outputs": [],
   "source": [
    "for i in range(4, 19):\n",
    "    enrollment = pd.read_csv('Enrollment/enr{}.txt'.format(i), sep=\"\\t\", header=0)\n",
    "    enrollment['year'] = i\n",
    "    enrollment['ENR_WHITE'] = np.where(enrollment['ETHNIC'] == 7, enrollment['ENR_TOTAL'], 0)\n",
    "    enrollment['ENR_MALE'] = np.where(enrollment['GENDER'] == \"M\", enrollment['ENR_TOTAL'], 0)\n",
    "    \n",
    "    annual_enrollment = enrollment.groupby(['CDS_CODE'])['ENR_TOTAL'].transform('sum')\n",
    "    annual_enrollment = pd.DataFrame(annual_enrollment)\n",
    "    \n",
    "    white_enrollment = enrollment.groupby(['CDS_CODE'])['ENR_WHITE'].transform('sum')\n",
    "    white_enrollment = pd.DataFrame(white_enrollment)\n",
    "    \n",
    "    male_enrollment = enrollment.groupby(['CDS_CODE'])['ENR_MALE'].transform('sum')\n",
    "    male_enrollment = pd.DataFrame(male_enrollment)\n",
    "    \n",
    "    enrollment2 = pd.merge(enrollment, annual_enrollment, left_index=True, right_index=True)\n",
    "    enrollment2b = pd.merge(enrollment2, white_enrollment, left_index=True, right_index=True)\n",
    "    enrollment2c = pd.merge(enrollment2b, male_enrollment, left_index=True, right_index=True)\n",
    "    \n",
    "    enrollment3 = enrollment2c.drop_duplicates(subset='CDS_CODE')\n",
    "    enrollment4 = enrollment3[['CDS_CODE','ENR_TOTAL_y', 'ENR_WHITE_y', 'ENR_MALE_y' ,'year']]\n",
    "    enrollment4.to_pickle(\"Enrollment/California_Enrollment_{}.pkl\".format(i))\n",
    "    del enrollment \n",
    "    del enrollment2\n",
    "    del enrollment2b\n",
    "    del enrollment2c\n",
    "    del enrollment3\n",
    "    del enrollment4\n",
    "    del annual_enrollment\n",
    "    del male_enrollment\n",
    "    del white_enrollment\n",
    "\n",
    "\n",
    "enrollment = pd.read_pickle(\"Enrollment/California_Enrollment_4.pkl\")\n",
    "\n",
    "for i in range(5, 19):\n",
    "    enrollment_i = pd.read_pickle(\"Enrollment/California_Enrollment_{}.pkl\".format(i))\n",
    "    enrollment = enrollment.append(enrollment_i)\n",
    "    del enrollment_i\n",
    "    \n",
    "\n",
    "enrollment = enrollment.sort_values(by=['CDS_CODE', 'year'])\n",
    "enrollment = enrollment.reset_index(drop=True)\n",
    "\n",
    "enrollment = enrollment.rename(columns={\"ENR_TOTAL_y\": \"ANN_TOTAL_ENROLL\", \"ENR_WHITE_y\": \"WHITE_ENROLL\", \"ENR_MALE_y\": \"MALE_ENROLL\"})\n",
    "\n",
    "enrollment['CDS_CODE'] = enrollment['CDS_CODE'].astype(str)\n",
    "enrollment['CDS_CODE'] = enrollment['CDS_CODE'].str.zfill(14)"
   ]
  },
  {
   "cell_type": "markdown",
   "metadata": {},
   "source": [
    "English Language Learner - ELL students - standardize and clean"
   ]
  },
  {
   "cell_type": "code",
   "execution_count": 7,
   "metadata": {},
   "outputs": [],
   "source": [
    "for i in range(4, 19):\n",
    "    ell = pd.read_csv('EL/elsch{}.txt'.format(i), sep=\"\\t\", header=0)\n",
    "    ell['year'] = i\n",
    "    annual_ell = ell.groupby(['CDS'])['TOTAL_EL'].transform('sum')\n",
    "    annual_ell = pd.DataFrame(annual_ell)\n",
    "    ell2 = pd.merge(ell, annual_ell, left_index=True, right_index=True)\n",
    "    ell3 = ell2.drop_duplicates(subset='CDS')\n",
    "    ell4 = ell3[['CDS','TOTAL_EL_y', 'year']]\n",
    "    ell4.to_pickle(\"EL/California_ELL_{}.pkl\".format(i))\n",
    "    del ell \n",
    "    del ell2\n",
    "    del ell3\n",
    "    del ell4\n",
    "    del annual_ell\n",
    "\n",
    "ell = pd.read_pickle(\"EL/California_ELL_4.pkl\")\n",
    "\n",
    "for i in range(5, 19):\n",
    "    ell_i = pd.read_pickle(\"EL/California_ELL_{}.pkl\".format(i))\n",
    "    ell = ell.append(ell_i)\n",
    "    del ell_i\n",
    "\n",
    "ell = ell.sort_values(by=['CDS', 'year'])\n",
    "ell = ell.reset_index(drop=True)\n",
    "ell = ell.rename(columns={\"TOTAL_EL_y\": \"ANN_ELL\" ,\"CDS\" : \"CDS_CODE\"})\n",
    "\n",
    "\n",
    "ell['CDS_CODE'] = ell['CDS_CODE'].astype(str)\n",
    "ell['CDS_CODE'] = ell['CDS_CODE'].str.zfill(14)"
   ]
  },
  {
   "cell_type": "markdown",
   "metadata": {},
   "source": [
    "Poverty - standardize and clean"
   ]
  },
  {
   "cell_type": "code",
   "execution_count": 10,
   "metadata": {},
   "outputs": [],
   "source": [
    "for i in range(4, 19):\n",
    "    poverty = pd.read_excel('Poverty/frpm{}.xls'.format(i), sheet_name='frpm', header=0)\n",
    "    poverty = poverty.dropna(subset=['School Code'])\n",
    "    poverty = poverty.dropna(subset=['District Code'])\n",
    "    poverty['DistrictCode'] = poverty['District Code'].astype(int)\n",
    "    poverty['SchoolCode'] = poverty['School Code'].astype(int)\n",
    "    poverty['CountyCode'] = poverty['County Code'].astype(int)\n",
    "    poverty['DistrictCode'] = poverty['DistrictCode'].astype(str)\n",
    "    poverty['DistrictCode'] = poverty['DistrictCode'].str.zfill(5)\n",
    "    poverty['SchoolCode'] = poverty['SchoolCode'].astype(str)\n",
    "    poverty['SchoolCode'] = poverty['SchoolCode'].str.zfill(7)\n",
    "    poverty['CountyCode'] = poverty['CountyCode'].astype(str)\n",
    "    poverty['CountyCode'] = poverty['CountyCode'].str.zfill(2)\n",
    "    poverty['CDS_CODE'] = poverty['CountyCode'] + poverty['DistrictCode'] + poverty['SchoolCode']\n",
    "\n",
    "   \n",
    "    poverty['year'] = i\n",
    "    annual_poverty = poverty.groupby(['CDS_CODE'])['Total FRPM'].transform('sum')\n",
    "    annual_poverty = pd.DataFrame(annual_poverty)\n",
    "    poverty2 = pd.merge(poverty, annual_poverty, left_index=True, right_index=True)\n",
    "    poverty3 = poverty2.drop_duplicates(subset='CDS_CODE')\n",
    "    poverty4 = poverty3[['CDS_CODE','Total FRPM_y', 'year']]\n",
    "    poverty4.to_pickle(\"Poverty/California_poverty_{}.pkl\".format(i))\n",
    "    del poverty\n",
    "    del poverty2\n",
    "    del poverty3\n",
    "    del poverty4\n",
    "    del annual_poverty\n",
    "\n",
    "poverty = pd.read_pickle(\"Poverty/California_poverty_4.pkl\")\n",
    "\n",
    "for i in range(5, 19):\n",
    "    poverty_i = pd.read_pickle(\"Poverty/California_poverty_{}.pkl\".format(i))\n",
    "    poverty = poverty.append(poverty_i)\n",
    "    del poverty_i\n",
    "\n",
    "poverty = poverty.sort_values(by=['CDS_CODE', 'year'])\n",
    "poverty = poverty.reset_index(drop=True)\n",
    "poverty = poverty.rename(columns={\"Total FRPM_y\": \"ANN_FRPM\"})"
   ]
  },
  {
   "cell_type": "code",
   "execution_count": 11,
   "metadata": {},
   "outputs": [
    {
     "data": {
      "text/plain": [
       "18    10520\n",
       "16    10478\n",
       "17    10475\n",
       "15    10453\n",
       "14    10393\n",
       "13    10361\n",
       "12    10344\n",
       "11     9906\n",
       "10     9884\n",
       "9      9865\n",
       "8      9851\n",
       "7      9781\n",
       "6      9625\n",
       "5      9494\n",
       "4      9365\n",
       "Name: year, dtype: int64"
      ]
     },
     "execution_count": 11,
     "metadata": {},
     "output_type": "execute_result"
    }
   ],
   "source": [
    "poverty['year'].value_counts() "
   ]
  },
  {
   "cell_type": "markdown",
   "metadata": {},
   "source": [
    "Merge sets"
   ]
  },
  {
   "cell_type": "code",
   "execution_count": 12,
   "metadata": {},
   "outputs": [],
   "source": [
    "merge = pd.merge(enrollment, ell, on=['CDS_CODE', 'year'], how = 'outer')\n",
    "merge2 = pd.merge(merge, poverty, on=['CDS_CODE', 'year'], how = 'outer')"
   ]
  },
  {
   "cell_type": "code",
   "execution_count": 13,
   "metadata": {},
   "outputs": [],
   "source": [
    "merge_demo = merge2.loc[merge2['ANN_TOTAL_ENROLL'] > 0]"
   ]
  },
  {
   "cell_type": "code",
   "execution_count": 14,
   "metadata": {},
   "outputs": [],
   "source": [
    "del merge\n",
    "del merge2"
   ]
  },
  {
   "cell_type": "markdown",
   "metadata": {},
   "source": [
    "Merge with Master"
   ]
  },
  {
   "cell_type": "code",
   "execution_count": 15,
   "metadata": {},
   "outputs": [],
   "source": [
    "master_list= pd.read_excel('SchoolDirectory/pubschls.xls', sheet_name='schools', header=0)\n",
    "master_list = master_list.rename(columns={\"CDSCode\": \"CDS_CODE\"})\n",
    "master_list = master_list.drop(master_list.index[18065])"
   ]
  },
  {
   "cell_type": "code",
   "execution_count": 16,
   "metadata": {},
   "outputs": [],
   "source": [
    "master_list['CDS_CODE']=master_list['CDS_CODE'].astype('str')\n",
    "\n",
    "master_list = master_list.drop(columns=['State', 'MailStreet', 'MailStrAbr', 'MailCity', 'MailZip', 'MailState', 'Phone',  \n",
    "                                        'Ext', 'WebSite', 'AdmFName1', 'AdmLName1', 'AdmEmail1', 'AdmFName2', 'AdmLName2', \n",
    "                                        'AdmEmail2', 'AdmFName3', 'AdmLName3'])\n",
    "\n",
    "master_list['CDS_CODE'] = master_list['CDS_CODE'].astype(str)\n",
    "master_list['CDS_CODE'] = master_list['CDS_CODE'].str.zfill(14)"
   ]
  },
  {
   "cell_type": "code",
   "execution_count": 17,
   "metadata": {},
   "outputs": [],
   "source": [
    "All_Schools_Analysis = pd.merge(master_list, merge_demo, on=['CDS_CODE'], how = 'outer')"
   ]
  },
  {
   "cell_type": "code",
   "execution_count": 18,
   "metadata": {},
   "outputs": [],
   "source": [
    "All_Schools_Analysis['last_year'] = All_Schools_Analysis.groupby('CDS_CODE')['year'].transform('last')\n",
    "All_Schools_Analysis['open_next_year'] = np.where(All_Schools_Analysis['last_year'] > All_Schools_Analysis['year'], 1, 0)\n",
    "All_Schools_Analysis['open_two_years'] = np.where(All_Schools_Analysis['last_year'] > All_Schools_Analysis['year']+1, 1, 0)"
   ]
  },
  {
   "cell_type": "code",
   "execution_count": 19,
   "metadata": {},
   "outputs": [],
   "source": [
    "All_Schools_Analysis = All_Schools_Analysis.sort_values(by=['CDS_CODE', 'year'])"
   ]
  },
  {
   "cell_type": "code",
   "execution_count": 20,
   "metadata": {},
   "outputs": [],
   "source": [
    "All_Schools_Analysis = All_Schools_Analysis[All_Schools_Analysis.School.notnull()]\n",
    "All_Schools_Analysis  = All_Schools_Analysis.loc[All_Schools_Analysis['ANN_TOTAL_ENROLL'] > 0]"
   ]
  },
  {
   "cell_type": "markdown",
   "metadata": {},
   "source": [
    "Clean missing values of ELL and FRPM enrollment for schools with multiple years of data"
   ]
  },
  {
   "cell_type": "code",
   "execution_count": 21,
   "metadata": {},
   "outputs": [],
   "source": [
    "Charter_Schools_Analysis = All_Schools_Analysis.loc[All_Schools_Analysis['Charter'] == \"Y\"]\n",
    "Charter_Schools_Analysis = Charter_Schools_Analysis.loc[Charter_Schools_Analysis['ANN_TOTAL_ENROLL'] > 0]"
   ]
  },
  {
   "cell_type": "code",
   "execution_count": 22,
   "metadata": {},
   "outputs": [],
   "source": [
    "Charter_Schools_Analysis['Pct_White'] = Charter_Schools_Analysis['WHITE_ENROLL']/Charter_Schools_Analysis['ANN_TOTAL_ENROLL']\n",
    "Charter_Schools_Analysis['Pct_Male'] = Charter_Schools_Analysis['MALE_ENROLL']/Charter_Schools_Analysis['ANN_TOTAL_ENROLL']\n",
    "Charter_Schools_Analysis['Pct_ELL'] = Charter_Schools_Analysis['ANN_ELL']/Charter_Schools_Analysis['ANN_TOTAL_ENROLL']\n",
    "Charter_Schools_Analysis['Pct_FRPM'] = Charter_Schools_Analysis['ANN_FRPM']/Charter_Schools_Analysis['ANN_TOTAL_ENROLL']"
   ]
  },
  {
   "cell_type": "code",
   "execution_count": 23,
   "metadata": {},
   "outputs": [],
   "source": [
    "missing_ell1 = Charter_Schools_Analysis[Charter_Schools_Analysis['Pct_ELL'].isnull()]\n",
    "missing_FRPM1 = Charter_Schools_Analysis[Charter_Schools_Analysis['Pct_FRPM'].isnull()]"
   ]
  },
  {
   "cell_type": "code",
   "execution_count": 24,
   "metadata": {},
   "outputs": [],
   "source": [
    "Charter_Schools_Analysis['Avg_ELL'] = Charter_Schools_Analysis.groupby('CDS_CODE')['Pct_ELL'].transform('mean')\n",
    "Charter_Schools_Analysis['Avg_FRPM'] = Charter_Schools_Analysis.groupby('CDS_CODE')['Pct_FRPM'].transform('mean')"
   ]
  },
  {
   "cell_type": "code",
   "execution_count": 25,
   "metadata": {},
   "outputs": [],
   "source": [
    "Charter_Schools_Analysis['Pct_ELL2'] = np.where(Charter_Schools_Analysis['Pct_ELL'].isnull(), Charter_Schools_Analysis.Avg_ELL, Charter_Schools_Analysis.Pct_ELL)\n",
    "Charter_Schools_Analysis['Pct_FRPM2'] = np.where(Charter_Schools_Analysis['Pct_FRPM'].isnull(), Charter_Schools_Analysis.Avg_FRPM, Charter_Schools_Analysis.Pct_FRPM)"
   ]
  },
  {
   "cell_type": "code",
   "execution_count": 27,
   "metadata": {},
   "outputs": [],
   "source": [
    "Charter_Schools_Analysis = Charter_Schools_Analysis.drop(['Pct_ELL', 'Pct_FRPM', 'Avg_FRPM', 'Avg_ELL'], axis=1)\n",
    "Charter_Schools_Analysis = Charter_Schools_Analysis.rename(columns={'Pct_ELL2': 'Pct_ELL', 'Pct_FRPM2': 'Pct_FRPM'})"
   ]
  },
  {
   "cell_type": "code",
   "execution_count": 28,
   "metadata": {},
   "outputs": [],
   "source": [
    "Charter_Schools_Analysis.to_pickle(\"SchoolDirectory/CUSD_data\")"
   ]
  },
  {
   "cell_type": "markdown",
   "metadata": {},
   "source": [
    "Add ACS data"
   ]
  },
  {
   "cell_type": "code",
   "execution_count": null,
   "metadata": {},
   "outputs": [],
   "source": [
    "zip_data = pd.read_pickle(\"zip_data.pkl\")\n",
    "Charter_Schools_Analysis['zipcode1'] = Charter_Schools_Analysis['Zip'].str[:5]\n",
    "Charter_Schools_Analysis['zipcode2'] = np.where(Charter_Schools_Analysis['zipcode1'] == \"No Da\", \"\", Charter_Schools_Analysis['zipcode1'])\n",
    "Charter_Schools_Analysis['zipcode'] = Charter_Schools_Analysis['zipcode2'].astype(float)\n",
    "zip_data['zipcode'] = zip_data['zipcode'].astype(float) \n",
    "Charter_Schools_Analysis = Charter_Schools_Analysis.merge(zip_data, left_on='zipcode', right_on='zipcode')"
   ]
  },
  {
   "cell_type": "code",
   "execution_count": null,
   "metadata": {},
   "outputs": [],
   "source": [
    "Charter_Schools_Analysis.head()\n",
    "Charter_Schools_Analysis = Charter_Schools_Analysis.loc[Charter_Schools_Analysis['ANN_TOTAL_ENROLL'] > 0]"
   ]
  },
  {
   "cell_type": "code",
   "execution_count": null,
   "metadata": {},
   "outputs": [],
   "source": [
    "Charter_Schools_Analysis.head()"
   ]
  },
  {
   "cell_type": "code",
   "execution_count": null,
   "metadata": {},
   "outputs": [],
   "source": [
    "Charter_Schools_Analysis['openyear'] = Charter_Schools_Analysis['OpenDate'].astype(str).str[:4]\n",
    "Charter_Schools_Analysis['openyear'] = Charter_Schools_Analysis['openyear'].astype(int)\n",
    "#Charter_Schools_Analysis['year'] = Charter_Schools_Analysis['year'] + 2000\n",
    "#Charter_Schools_Analysis['Years_of_Op'] = Charter_Schools_Analysis['year'] - Charter_Schools_Analysis['openyear']"
   ]
  },
  {
   "cell_type": "markdown",
   "metadata": {},
   "source": [
    "Add in Great Schools Analysis"
   ]
  },
  {
   "cell_type": "code",
   "execution_count": null,
   "metadata": {},
   "outputs": [],
   "source": [
    "School_Neighbors = pd.read_csv(\"School_Neighbors.csv\")\n",
    "School_Neighbors['CDS_CODE'] = School_Neighbors['CDS_CODE'].astype(str)\n",
    "School_Neighbors['CDS_CODE'] = School_Neighbors['CDS_CODE'].str.zfill(14)"
   ]
  },
  {
   "cell_type": "code",
   "execution_count": null,
   "metadata": {},
   "outputs": [],
   "source": [
    "School_Neighbors.head()"
   ]
  },
  {
   "cell_type": "code",
   "execution_count": null,
   "metadata": {},
   "outputs": [],
   "source": [
    "Charter_Schools_Analysis = pd.merge(Charter_Schools_Analysis, School_Neighbors, on=['CDS_CODE'], how = 'outer')"
   ]
  },
  {
   "cell_type": "code",
   "execution_count": null,
   "metadata": {},
   "outputs": [],
   "source": [
    "Charter_Schools_Analysis = Charter_Schools_Analysis.loc[Charter_Schools_Analysis['ANN_TOTAL_ENROLL'] > 0]"
   ]
  },
  {
   "cell_type": "markdown",
   "metadata": {},
   "source": [
    "Impute missing ELL scores and Great Schools using overall average of each individual school"
   ]
  },
  {
   "cell_type": "code",
   "execution_count": null,
   "metadata": {},
   "outputs": [],
   "source": [
    "Charter_Schools_One_School = Charter_Schools_Analysis.copy()"
   ]
  },
  {
   "cell_type": "code",
   "execution_count": null,
   "metadata": {},
   "outputs": [],
   "source": [
    "Charter_Schools_One_School.head()"
   ]
  },
  {
   "cell_type": "code",
   "execution_count": null,
   "metadata": {},
   "outputs": [],
   "source": [
    "Charter_Schools_One_School['First_School'] = (Charter_Schools_One_School.groupby('School_x').cumcount() == 0).astype(int)\n",
    "Charter_Schools_One_School = Charter_Schools_One_School.loc[Charter_Schools_One_School['First_School'] > 0]"
   ]
  },
  {
   "cell_type": "code",
   "execution_count": null,
   "metadata": {},
   "outputs": [],
   "source": [
    "average_ELL = Charter_Schools_One_School['Pct_ELL'].mean()\n",
    "average_FRPM = Charter_Schools_One_School['Pct_FRPM'].mean()\n",
    "average_PS_score = Charter_Schools_Analysis['neighborhood_PS_score'].mean()"
   ]
  },
  {
   "cell_type": "code",
   "execution_count": null,
   "metadata": {},
   "outputs": [],
   "source": [
    "Charter_Schools_Analysis['Pct_ELL2'] = np.where(Charter_Schools_Analysis['Pct_ELL'].isnull(), average_ELL, Charter_Schools_Analysis.Pct_ELL)\n",
    "Charter_Schools_Analysis['Pct_FRPM2'] = np.where(Charter_Schools_Analysis['Pct_FRPM'].isnull(), average_FRPM, Charter_Schools_Analysis.Pct_FRPM)\n",
    "Charter_Schools_Analysis['neighborhood_PS_score2'] = np.where(Charter_Schools_Analysis['neighborhood_PS_score'].isnull(), average_PS_score, Charter_Schools_Analysis.neighborhood_PS_score)"
   ]
  },
  {
   "cell_type": "code",
   "execution_count": null,
   "metadata": {},
   "outputs": [],
   "source": [
    "missing_ell = Charter_Schools_Analysis[Charter_Schools_Analysis['Pct_ELL2'].isnull()]\n",
    "missing_FRPM = Charter_Schools_Analysis[Charter_Schools_Analysis['Pct_FRPM2'].isnull()]\n",
    "missing_PS_score = Charter_Schools_Analysis[Charter_Schools_Analysis['neighborhood_PS_score2'].isnull()]"
   ]
  },
  {
   "cell_type": "code",
   "execution_count": null,
   "metadata": {},
   "outputs": [],
   "source": [
    "castle = Charter_Schools_Analysis.loc[Charter_Schools_Analysis['School_x'] == \"Castlemont Junior Academy\"]"
   ]
  },
  {
   "cell_type": "code",
   "execution_count": null,
   "metadata": {},
   "outputs": [],
   "source": [
    "castle['Pct_ELL2']"
   ]
  },
  {
   "cell_type": "code",
   "execution_count": null,
   "metadata": {},
   "outputs": [],
   "source": [
    "len(missing_ell)"
   ]
  },
  {
   "cell_type": "code",
   "execution_count": null,
   "metadata": {},
   "outputs": [],
   "source": [
    "len(missing_FRPM)"
   ]
  },
  {
   "cell_type": "code",
   "execution_count": null,
   "metadata": {},
   "outputs": [],
   "source": [
    "Charter_Schools_Analysis = Charter_Schools_Analysis.drop(['Pct_ELL', 'Pct_FRPM', 'neighborhood_PS_score'], axis=1)"
   ]
  },
  {
   "cell_type": "code",
   "execution_count": null,
   "metadata": {},
   "outputs": [],
   "source": [
    "Charter_Schools_Analysis = Charter_Schools_Analysis.rename(columns={'Pct_ELL2': 'Pct_ELL', 'Pct_FRPM2': 'Pct_FRPM', 'neighborhood_PS_score2': 'PS_score'})"
   ]
  },
  {
   "cell_type": "code",
   "execution_count": null,
   "metadata": {},
   "outputs": [],
   "source": [
    "missing_ell1 = Charter_Schools_Analysis[Charter_Schools_Analysis['Pct_ELL'].isnull()]\n",
    "missing_FRPM1 = Charter_Schools_Analysis[Charter_Schools_Analysis['Pct_FRPM'].isnull()]\n",
    "missing_PS = Charter_Schools_Analysis[Charter_Schools_Analysis['PS_score'].isnull()]"
   ]
  },
  {
   "cell_type": "code",
   "execution_count": null,
   "metadata": {},
   "outputs": [],
   "source": [
    "len(missing_FRPM1)"
   ]
  },
  {
   "cell_type": "code",
   "execution_count": null,
   "metadata": {},
   "outputs": [],
   "source": [
    "list(Charter_Schools_Analysis.columns)"
   ]
  },
  {
   "cell_type": "markdown",
   "metadata": {},
   "source": [
    "Prepare for analysis"
   ]
  },
  {
   "cell_type": "code",
   "execution_count": null,
   "metadata": {},
   "outputs": [],
   "source": [
    "Charter_Schools_Analysis = Charter_Schools_Analysis.drop(columns=['Unnamed: 0', 'School_y',  'Latitude_y', 'Longitude_y', 'public_schools_in_range_gs_weight',\n",
    "                                                                    'public_schools_in_range_ps_weight', 'public_schools_in_range_total', 'neighborhood_GS_score',   \n",
    "                                                                     'public_schools_in_range_gs_weight', 'public_schools_in_range_ps_weight', 'public_schools_in_range_total',\n",
    "                                                                     'neighborhood_GS_score'\n",
    "                                                                   ])\n",
    "                                                                    \n",
    "                                                                   \n",
    "                                                                   \n",
    "                                                                   \n",
    "                                                                   \n",
    "                                                                   \n",
    "                                                                   "
   ]
  },
  {
   "cell_type": "code",
   "execution_count": null,
   "metadata": {},
   "outputs": [],
   "source": [
    "Charter_Schools_Analysis.head()"
   ]
  },
  {
   "cell_type": "code",
   "execution_count": null,
   "metadata": {},
   "outputs": [],
   "source": [
    "len(Charter_Schools_Analysis)"
   ]
  },
  {
   "cell_type": "code",
   "execution_count": null,
   "metadata": {},
   "outputs": [],
   "source": [
    "Charter_Schools_Analysis.to_pickle(\"Charter_Schools_Analysis.pkl\")"
   ]
  },
  {
   "cell_type": "code",
   "execution_count": null,
   "metadata": {},
   "outputs": [],
   "source": []
  }
 ],
 "metadata": {
  "kernelspec": {
   "display_name": "Python 3",
   "language": "python",
   "name": "python3"
  },
  "language_info": {
   "codemirror_mode": {
    "name": "ipython",
    "version": 3
   },
   "file_extension": ".py",
   "mimetype": "text/x-python",
   "name": "python",
   "nbconvert_exporter": "python",
   "pygments_lexer": "ipython3",
   "version": "3.7.5"
  }
 },
 "nbformat": 4,
 "nbformat_minor": 4
}
