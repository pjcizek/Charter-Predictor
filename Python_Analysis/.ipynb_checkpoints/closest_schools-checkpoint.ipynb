{
 "cells": [
  {
   "cell_type": "code",
   "execution_count": null,
   "metadata": {},
   "outputs": [],
   "source": [
    "import pandas as pd\n",
    "import warnings\n",
    "import numpy as np\n",
    "warnings.filterwarnings('ignore')\n",
    "import geopandas\n",
    "import matplotlib.pyplot as plt\n",
    "from shapely.geometry import Point, MultiPoint\n",
    "from geopandas import GeoDataFrame"
   ]
  },
  {
   "cell_type": "code",
   "execution_count": null,
   "metadata": {},
   "outputs": [],
   "source": [
    "Charter_Schools_Analysis = pd.read_pickle(\"Charter_Schools_Analysis_Out.pkl\")  "
   ]
  },
  {
   "cell_type": "code",
   "execution_count": null,
   "metadata": {},
   "outputs": [],
   "source": [
    "Charter_Schools_Analysis.head()"
   ]
  },
  {
   "cell_type": "code",
   "execution_count": null,
   "metadata": {},
   "outputs": [],
   "source": [
    "Charter_Schools_Analysis['Latitude'] = Charter_Schools_Analysis['Latitude'].astype(float)\n",
    "Charter_Schools_Analysis['Longitude'] = Charter_Schools_Analysis['Longitude'].astype(float)"
   ]
  },
  {
   "cell_type": "code",
   "execution_count": null,
   "metadata": {},
   "outputs": [],
   "source": [
    "Charter_Schools_Analysis['First_Lat'] = (Charter_Schools_Analysis.groupby('Latitude').cumcount() == 0).astype(int)\n",
    "Charter_Schools_Analysis = Charter_Schools_Analysis.loc[Charter_Schools_Analysis['First_Lat'] > 0]\n",
    "Charter_Schools_Analysis = Charter_Schools_Analysis.reset_index(drop=True)"
   ]
  },
  {
   "cell_type": "code",
   "execution_count": null,
   "metadata": {},
   "outputs": [],
   "source": [
    "from geopy.distance import geodesic"
   ]
  },
  {
   "cell_type": "code",
   "execution_count": null,
   "metadata": {},
   "outputs": [],
   "source": [
    "Charter_Schools_Analysis['location_home'] = list(zip(Charter_Schools_Analysis['Latitude'], Charter_Schools_Analysis['Longitude']))"
   ]
  },
  {
   "cell_type": "code",
   "execution_count": null,
   "metadata": {},
   "outputs": [],
   "source": [
    "Charter_Analysis_Neighbor = Charter_Schools_Analysis[['School', 'location_home', 'Latitude', 'Longitude', 'predicted_survival', 'Safe', 'ANN_TOTAL_ENROLL']]"
   ]
  },
  {
   "cell_type": "code",
   "execution_count": null,
   "metadata": {},
   "outputs": [],
   "source": [
    "for i in range(len(Charter_Analysis_Neighbor)):\n",
    "    distance_array = []\n",
    "    d_i = Charter_Analysis_Neighbor['location_home'][i]\n",
    "    for j in range(len(Charter_Analysis_Neighbor)):\n",
    "        d = (geodesic(d_i, Charter_Analysis_Neighbor['location_home'][j]).miles)\n",
    "        distance_array.append(d)\n",
    "        \n",
    "    distance_df = pd.DataFrame(distance_array)\n",
    "    distance_df = distance_df.rename(columns={0: \"Distance\"})\n",
    "        \n",
    "    Charter_Analysis_Neighbor2 =  Charter_Analysis_Neighbor.join(distance_df, how='outer')\n",
    "    Charter_Analysis_Neighbor3 = Charter_Analysis_Neighbor2.nsmallest(6, 'Distance')\n",
    "    Charter_Analysis_Neighbor4 = Charter_Analysis_Neighbor3[0:6] \n",
    "    Charter_Analysis_Neighbor4 = Charter_Analysis_Neighbor4.reset_index(drop=True)\n",
    "        \n",
    "    Charter_Analysis_Neighbor4['Indexi'] = Charter_Analysis_Neighbor4.index\n",
    "    Charter_Analysis_Neighbor4['Indexj'] = i\n",
    "    Charter_Analysis_Neighbor5 = Charter_Analysis_Neighbor4.pivot(index= \"Indexj\", columns='Indexi')\n",
    "   \n",
    "    if i == 0:\n",
    "        Charter_Schools_Wide = Charter_Analysis_Neighbor5\n",
    "    else:\n",
    "        Charter_Schools_Wide = Charter_Schools_Wide.append(Charter_Analysis_Neighbor5, ignore_index=True)"
   ]
  },
  {
   "cell_type": "code",
   "execution_count": null,
   "metadata": {},
   "outputs": [],
   "source": [
    "Charter_Schools_Wide[0:20]"
   ]
  },
  {
   "cell_type": "code",
   "execution_count": null,
   "metadata": {},
   "outputs": [],
   "source": [
    "Charter_Schools_Wide.to_csv('CP_Analysis.csv')"
   ]
  },
  {
   "cell_type": "code",
   "execution_count": null,
   "metadata": {},
   "outputs": [],
   "source": []
  }
 ],
 "metadata": {
  "kernelspec": {
   "display_name": "Python 3",
   "language": "python",
   "name": "python3"
  },
  "language_info": {
   "codemirror_mode": {
    "name": "ipython",
    "version": 3
   },
   "file_extension": ".py",
   "mimetype": "text/x-python",
   "name": "python",
   "nbconvert_exporter": "python",
   "pygments_lexer": "ipython3",
   "version": "3.7.5"
  }
 },
 "nbformat": 4,
 "nbformat_minor": 4
}
