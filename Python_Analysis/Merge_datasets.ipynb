{
 "cells": [
  {
   "cell_type": "code",
   "execution_count": 36,
   "metadata": {},
   "outputs": [],
   "source": [
    "import pandas as pd\n",
    "import warnings\n",
    "import numpy as np\n",
    "warnings.filterwarnings('ignore')"
   ]
  },
  {
   "cell_type": "markdown",
   "metadata": {},
   "source": [
    "Merge CDE with ACS data"
   ]
  },
  {
   "cell_type": "code",
   "execution_count": 37,
   "metadata": {},
   "outputs": [],
   "source": [
    "CDS_data = pd.read_pickle(\"Data/SchoolDirectory/CDE_data.pkl\")"
   ]
  },
  {
   "cell_type": "code",
   "execution_count": 38,
   "metadata": {},
   "outputs": [],
   "source": [
    "zip_data = pd.read_pickle(\"Data/ACS/ACS_data.pkl\")"
   ]
  },
  {
   "cell_type": "code",
   "execution_count": 39,
   "metadata": {},
   "outputs": [],
   "source": [
    "CDS_data['zipcode1'] = CDS_data['Zip'].str[:5]\n",
    "CDS_data['zipcode2'] = np.where(CDS_data['zipcode1'] == \"No Da\", \"\", CDS_data['zipcode1'])\n",
    "CDS_data['zipcode'] = CDS_data['zipcode2'].astype(float)\n",
    "zip_data['zipcode'] = zip_data['zipcode'].astype(float) \n",
    "Charter_Schools_Analysis = CDS_data.merge(zip_data, left_on='zipcode', right_on='zipcode')\n",
    "\n",
    "Charter_Schools_Analysis = Charter_Schools_Analysis.loc[Charter_Schools_Analysis['ANN_TOTAL_ENROLL'] > 0]\n",
    "\n",
    "Charter_Schools_Analysis['openyear'] = Charter_Schools_Analysis['OpenDate'].astype(str).str[:4]\n",
    "Charter_Schools_Analysis['openyear'] = Charter_Schools_Analysis['openyear'].astype(int)"
   ]
  },
  {
   "cell_type": "markdown",
   "metadata": {},
   "source": [
    "Merge with GreatSchools Data"
   ]
  },
  {
   "cell_type": "code",
   "execution_count": 40,
   "metadata": {},
   "outputs": [],
   "source": [
    "School_Neighbors = pd.read_csv(\"Data/GreatSchools/School_Neighbors.csv\")\n",
    "School_Neighbors['CDS_CODE'] = School_Neighbors['CDS_CODE'].astype(str)\n",
    "School_Neighbors['CDS_CODE'] = School_Neighbors['CDS_CODE'].str.zfill(14)"
   ]
  },
  {
   "cell_type": "code",
   "execution_count": 41,
   "metadata": {},
   "outputs": [],
   "source": [
    "Charter_Schools_Analysis = pd.merge(Charter_Schools_Analysis, School_Neighbors, on=['CDS_CODE'], how = 'outer')\n",
    "Charter_Schools_Analysis = Charter_Schools_Analysis.loc[Charter_Schools_Analysis['ANN_TOTAL_ENROLL'] > 0]"
   ]
  },
  {
   "cell_type": "markdown",
   "metadata": {},
   "source": [
    "Impute missing ELL scores and Great Schools using overall average of each individual school"
   ]
  },
  {
   "cell_type": "code",
   "execution_count": 42,
   "metadata": {},
   "outputs": [],
   "source": [
    "Charter_Schools_One_School = Charter_Schools_Analysis.copy()\n",
    "Charter_Schools_One_School['First_School'] = (Charter_Schools_One_School.groupby('School_x').cumcount() == 0).astype(int)\n",
    "Charter_Schools_One_School = Charter_Schools_One_School.loc[Charter_Schools_One_School['First_School'] > 0]"
   ]
  },
  {
   "cell_type": "code",
   "execution_count": 43,
   "metadata": {},
   "outputs": [],
   "source": [
    "average_ELL = Charter_Schools_One_School['Pct_ELL'].mean()\n",
    "average_FRPM = Charter_Schools_One_School['Pct_FRPM'].mean()\n",
    "average_PS_score = Charter_Schools_Analysis['neighborhood_PS_score'].mean()"
   ]
  },
  {
   "cell_type": "code",
   "execution_count": 44,
   "metadata": {},
   "outputs": [],
   "source": [
    "Charter_Schools_Analysis['Pct_ELL2'] = np.where(Charter_Schools_Analysis['Pct_ELL'].isnull(), average_ELL, Charter_Schools_Analysis.Pct_ELL)\n",
    "Charter_Schools_Analysis['Pct_FRPM2'] = np.where(Charter_Schools_Analysis['Pct_FRPM'].isnull(), average_FRPM, Charter_Schools_Analysis.Pct_FRPM)\n",
    "Charter_Schools_Analysis['neighborhood_PS_score2'] = np.where(Charter_Schools_Analysis['neighborhood_PS_score'].isnull(), average_PS_score, Charter_Schools_Analysis.neighborhood_PS_score)"
   ]
  },
  {
   "cell_type": "code",
   "execution_count": 45,
   "metadata": {},
   "outputs": [],
   "source": [
    "missing_ell = Charter_Schools_Analysis[Charter_Schools_Analysis['Pct_ELL2'].isnull()]\n",
    "missing_FRPM = Charter_Schools_Analysis[Charter_Schools_Analysis['Pct_FRPM2'].isnull()]\n",
    "missing_PS_score = Charter_Schools_Analysis[Charter_Schools_Analysis['neighborhood_PS_score2'].isnull()]"
   ]
  },
  {
   "cell_type": "code",
   "execution_count": 46,
   "metadata": {},
   "outputs": [],
   "source": [
    "Charter_Schools_Analysis = Charter_Schools_Analysis.drop(['Pct_ELL', 'Pct_FRPM', 'neighborhood_PS_score'], axis=1)\n",
    "Charter_Schools_Analysis = Charter_Schools_Analysis.rename(columns={'Pct_ELL2': 'Pct_ELL', 'Pct_FRPM2': 'Pct_FRPM', 'neighborhood_PS_score2': 'PS_score'})"
   ]
  },
  {
   "cell_type": "code",
   "execution_count": 47,
   "metadata": {},
   "outputs": [],
   "source": [
    "Charter_Schools_Analysis['Pct_FRPM']  = np.where(Charter_Schools_Analysis['Pct_FRPM'] > 1, average_FRPM, Charter_Schools_Analysis['Pct_FRPM'])\n",
    "Charter_Schools_Analysis['Pct_ELL']  = np.where(Charter_Schools_Analysis['Pct_ELL'] > 1, average_FRPM, Charter_Schools_Analysis['Pct_ELL'])\n"
   ]
  },
  {
   "cell_type": "code",
   "execution_count": 48,
   "metadata": {},
   "outputs": [],
   "source": [
    "#missing_ell1 = Charter_Schools_Analysis[Charter_Schools_Analysis['Pct_ELL'].isnull()]\n",
    "#missing_FRPM1 = Charter_Schools_Analysis[Charter_Schools_Analysis['Pct_FRPM'].isnull()]\n",
    "#missing_PS = Charter_Schools_Analysis[Charter_Schools_Analysis['PS_score'].isnull()]"
   ]
  },
  {
   "cell_type": "markdown",
   "metadata": {},
   "source": [
    "Prepare for analysis"
   ]
  },
  {
   "cell_type": "code",
   "execution_count": 49,
   "metadata": {},
   "outputs": [],
   "source": [
    "Charter_Schools_Analysis = Charter_Schools_Analysis.drop(columns=['Unnamed: 0', 'School_y',  'Latitude_y', 'Longitude_y', 'public_schools_in_range_gs_weight',\n",
    "                                                                    'public_schools_in_range_ps_weight', 'public_schools_in_range_total', 'neighborhood_GS_score',   \n",
    "                                                                     'public_schools_in_range_gs_weight', 'public_schools_in_range_ps_weight', 'public_schools_in_range_total',\n",
    "                                                                     'neighborhood_GS_score'\n",
    "                                                                   ])\n",
    "                                                                    \n",
    "\n",
    "Charter_Schools_Analysis.to_pickle(\"Data/AnalysisSet/Charter_Schools_Analysis.pkl\")"
   ]
  },
  {
   "cell_type": "code",
   "execution_count": null,
   "metadata": {},
   "outputs": [],
   "source": []
  }
 ],
 "metadata": {
  "kernelspec": {
   "display_name": "Python 3",
   "language": "python",
   "name": "python3"
  },
  "language_info": {
   "codemirror_mode": {
    "name": "ipython",
    "version": 3
   },
   "file_extension": ".py",
   "mimetype": "text/x-python",
   "name": "python",
   "nbconvert_exporter": "python",
   "pygments_lexer": "ipython3",
   "version": "3.7.4"
  }
 },
 "nbformat": 4,
 "nbformat_minor": 4
}
