{
 "cells": [
  {
   "cell_type": "markdown",
   "metadata": {},
   "source": [
    "Query GreatSchools for parent ratings - note that a personal API key is requred to work with the GreatSchools API"
   ]
  },
  {
   "cell_type": "code",
   "execution_count": null,
   "metadata": {},
   "outputs": [],
   "source": [
    "import csv \n",
    "import requests \n",
    "import xml.etree.ElementTree as ET \n",
    "import xmltodict\n",
    "import pandas as pd\n",
    "import json\n",
    "import requests\n",
    "import datetime"
   ]
  },
  {
   "cell_type": "code",
   "execution_count": null,
   "metadata": {},
   "outputs": [],
   "source": [
    "master_list= pd.read_excel('Data/SchoolDirectory/pubschls.xls', sheet_name='schools', header=0)"
   ]
  },
  {
   "cell_type": "code",
   "execution_count": null,
   "metadata": {},
   "outputs": [],
   "source": [
    "charter_list = master_list.loc[master_list['Charter'] == 'Y']\n",
    "charter_list = charter_list[['CDSCode','Latitude', 'Longitude']]\n",
    "charter_list = charter_list.reset_index(drop=True)"
   ]
  },
  {
   "cell_type": "code",
   "execution_count": null,
   "metadata": {},
   "outputs": [],
   "source": [
    "number_of_schools = len(charter_list)\n",
    "print(number_of_schools)"
   ]
  },
  {
   "cell_type": "code",
   "execution_count": null,
   "metadata": {},
   "outputs": [],
   "source": [
    "city = master_list['City']\n",
    "city.describe()\n",
    "city = city.drop_duplicates()\n",
    "city = city.reset_index(drop=True)\n",
    "city = city.dropna()\n",
    "city = pd.DataFrame(city)\n",
    "city = city[\"City\"].str.split(\" \", n = 2, expand = True) \n",
    "city = city.rename(columns={0: \"First\", 1: \"Second\", 2: \"Third\"})\n",
    "city.loc[city['Second'].notnull() & city['Third'].notnull() ,'final'] = city['First'] +'+'+ city['Second'] +'+'+ city['Third']\n",
    "city.loc[city['Second'].notnull() & city['Third'].isna() ,'final'] = city['First'] +'+'+ city['Second']\n",
    "city.loc[city['Second'].isna() & city['Third'].isna() ,'final'] = city['First']\n",
    "city_len = len(city)\n",
    "print(city_len)"
   ]
  },
  {
   "cell_type": "code",
   "execution_count": null,
   "metadata": {},
   "outputs": [],
   "source": [
    "schools_of_interest = []"
   ]
  },
  {
   "cell_type": "markdown",
   "metadata": {},
   "source": [
    "Because a personal API key is required for querying information using the GreatSchools API - this part of the code cannot be run, proceed below to continue with the construction of the data set."
   ]
  },
  {
   "cell_type": "code",
   "execution_count": null,
   "metadata": {},
   "outputs": [],
   "source": [
    "for i in range(0, city_len):\n",
    "    try: \n",
    "        school_city = city['final'].loc[i]\n",
    "        print(school_city)\n",
    "        # This involves having a personal GreatSchools API key, which is removed here\n",
    "        #url = \"https://api.greatschools.org/schools/nearby?key=####&city={}&state=CA&schoolType=public\".format(school_city)\n",
    "\n",
    "        response = requests.get(url)\n",
    "\n",
    "        doc = xmltodict.parse(response.text)\n",
    "        schools = doc['schools']\n",
    "        school = schools['school']\n",
    "\n",
    "        for item in school:\n",
    "            schools_of_interest.append(item['gsId'])\n",
    "        \n",
    "    except:\n",
    "        pass\n",
    "\n",
    "schools_of_interest = pd.DataFrame(schools_of_interest) \n",
    "schools_of_interest = schools_of_interest.drop_duplicates()\n",
    "schools_of_interest = schools_of_interest.rename(columns={0: \"gsId\"})\n",
    "\n",
    "schools_of_interest.to_pickle(\"Data/GreatSchools/Schools_of_Interest2.pkl\")\n",
    "\n",
    "schools_of_interest = pd.read_pickle(\"Data/GreatSchools/Schools_of_Interest2.pkl\")\n",
    "\n",
    "school_rating_set = pd.DataFrame(columns=list('ABCDEF'))\n",
    "\n",
    "for i in range(7500, 8608):\n",
    "    try: \n",
    "        schoolid = schools_of_interest[0][i]\n",
    "        # This involves having a personal GreatSchools API key, which is removed here\n",
    "        #url = \"https://api.greatschools.org/schools/CA/{}?key=####\".format(schoolid)\n",
    "    \n",
    "        response = requests.get(url)\n",
    "    \n",
    "        doc = xmltodict.parse(response.text)\n",
    "        school = doc['school']\n",
    "\n",
    "        school_rating_set.loc[i] = [school['gsRating'],school['parentRating'],school['enrollment'], school['ncesId'], school['gsId'], school['name']]\n",
    "    \n",
    "    except:\n",
    "        pass\n",
    "\n",
    "school_rating_set.to_pickle(\"Data/GreatSchools/Schools_Set_Out_7500_8608.pkl\")"
   ]
  },
  {
   "cell_type": "markdown",
   "metadata": {},
   "source": [
    "Begin running code again here"
   ]
  },
  {
   "cell_type": "code",
   "execution_count": null,
   "metadata": {},
   "outputs": [],
   "source": [
    "school_rating_1 = pd.read_pickle(\"Data/GreatSchools/Schools_Set_Out_0_499.pkl\")\n",
    "school_rating_2 = pd.read_pickle(\"Data/GreatSchools/Schools_Set_Out_500_2900.pkl\")\n",
    "school_rating_3 = pd.read_pickle(\"Data/GreatSchools/Schools_Set_Out_2900_4800.pkl\")\n",
    "school_rating_4 = pd.read_pickle(\"Data/GreatSchools/Schools_Set_Out_4800_7500.pkl\")\n",
    "school_rating_5 = pd.read_pickle(\"Data/GreatSchools/Schools_Set_Out_7500_8608.pkl\")"
   ]
  },
  {
   "cell_type": "code",
   "execution_count": null,
   "metadata": {},
   "outputs": [],
   "source": [
    "school_rating_a = school_rating_1.append(school_rating_2)\n",
    "school_rating_b = school_rating_a.append(school_rating_3)\n",
    "school_rating_c = school_rating_b.append(school_rating_4)\n",
    "school_rating_d = school_rating_c.append(school_rating_5)\n"
   ]
  },
  {
   "cell_type": "code",
   "execution_count": null,
   "metadata": {},
   "outputs": [],
   "source": [
    "school_rating = school_rating_d.reset_index(drop=True)\n",
    "school_rating = school_rating.rename(columns={\"A\": \"gs_Rating\", \"B\": \"parentRating\", \"C\": \"enrollment\", \"D\": \"ncesId\", \"E\": \"gsId\", \"F\" : \"name\"})"
   ]
  },
  {
   "cell_type": "code",
   "execution_count": null,
   "metadata": {},
   "outputs": [],
   "source": [
    "Full_Set = pd.read_pickle(\"Data/SchoolDirectory/All_Schools_Analysis.pkl\")"
   ]
  },
  {
   "cell_type": "code",
   "execution_count": null,
   "metadata": {},
   "outputs": [],
   "source": [
    "Full_Set['ncesId'] = Full_Set['NCESDist'] + Full_Set['NCESSchool']\n",
    "Charter_Schools = Full_Set.loc[Full_Set['Charter'] == \"Y\"]\n",
    "Charter_Schools2 = Charter_Schools[['School', 'CDS_CODE', 'ncesId', 'Latitude', 'Longitude']]\n",
    "Charter_Schools3= Charter_Schools2.drop_duplicates(subset='CDS_CODE')"
   ]
  },
  {
   "cell_type": "code",
   "execution_count": null,
   "metadata": {},
   "outputs": [],
   "source": [
    "Public_Schools = Full_Set.merge(school_rating, left_on='ncesId', right_on='ncesId')\n",
    "Public_Schools2 = Public_Schools.drop_duplicates(subset='CDS_CODE')\n",
    "Public_Schools3 = Public_Schools2[['School', 'CDS_CODE', 'ncesId', 'Latitude', 'Longitude', 'enrollment', 'gs_Rating', 'parentRating']]"
   ]
  },
  {
   "cell_type": "code",
   "execution_count": null,
   "metadata": {},
   "outputs": [],
   "source": [
    "Public_Schools_Final = Public_Schools3.reset_index(drop=True)\n",
    "Charter_Schools_Final = Charter_Schools3.reset_index(drop=True)\n",
    "\n",
    "Public_Schools_Final.to_pickle(\"Data/GreatSchools/Public_Schools.pkl\")\n",
    "Charter_Schools_Final.to_pickle(\"Data/GreatSchools/Charter_Schools.pkl\")"
   ]
  },
  {
   "cell_type": "code",
   "execution_count": null,
   "metadata": {},
   "outputs": [],
   "source": [
    "import geopy.distance as geodesic\n",
    "import pickle\n",
    "import random\n",
    "import os\n",
    "\n",
    "import pandas"
   ]
  },
  {
   "cell_type": "code",
   "execution_count": null,
   "metadata": {},
   "outputs": [],
   "source": [
    "lat_delta_mile = 0.02\n",
    "lon_delta_mile = 0.025\n",
    "\n",
    "#Get Schools\n",
    "charter_schools = pickle.load(open(\"Data/GreatSchools/Charter_Schools.pkl\", 'rb'))\n",
    "public_schools = pickle.load(open(\"Data/GreatSchools/Public_Schools.pkl\", 'rb'))\n",
    "\n",
    "#Create school weights\n",
    "public_schools['gs_weight'] = pandas.to_numeric(public_schools.gs_Rating) * pandas.to_numeric(public_schools.enrollment)\n",
    "public_schools['ps_weight'] = pandas.to_numeric(public_schools.parentRating) * pandas.to_numeric(public_schools.enrollment)\n",
    "\n",
    "charter_schools_dict = pandas.DataFrame.to_dict(charter_schools)\n",
    "public_schools_dict = pandas.DataFrame.to_dict(public_schools)\n",
    "\n",
    "#def schools_distance(charter_schools_dict, public_schools_dict, range = 3):\n",
    "range = 3\n",
    "charter_schools_dict[\"public_schools_in_range_gs_weight\"] = {}\n",
    "charter_schools_dict[\"public_schools_in_range_ps_weight\"] = {}\n",
    "charter_schools_dict[\"public_schools_in_range_total\"] = {}\n",
    "charter_schools_dict[\"neighborhood_GS_score\"] = {}\n",
    "charter_schools_dict[\"neighborhood_PS_score\"] = {}\n",
    "\n",
    "for charter in charter_schools_dict[\"School\"]:\n",
    "\tprint(charter)\n",
    "\tcharter_schools_dict[\"public_schools_in_range_gs_weight\"][charter] = 0\n",
    "\tcharter_schools_dict[\"public_schools_in_range_ps_weight\"][charter] = 0\n",
    "\tcharter_schools_dict[\"public_schools_in_range_total\"][charter] = 0\n",
    "\tc_loc = (charter_schools_dict[\"Latitude\"][charter], charter_schools_dict[\"Longitude\"][charter])\n",
    "\n",
    "\tfor public in public_schools_dict[\"School\"]:\n",
    "\t\tp_loc = (public_schools_dict[\"Latitude\"][public], public_schools_dict[\"Longitude\"][public])\n",
    "\n",
    "\t\tif not ('No Data' in c_loc or \"No Data\" in p_loc):\n",
    "\n",
    "#\t\t\ttest_lat_delta = abs(float(c_loc[0]) - float(p_loc[0]))\n",
    "#\t\t\ttest_lon_delta = abs(float(c_loc[1]) - float(p_loc[1]))\n",
    "\n",
    "\t\t\t#Do a dummy test on distance\n",
    "#\t\t\tif not (lat_delta_mile > (test_lat_delta/range)) and not (lon_delta_mile > (test_lon_delta/range)):\n",
    "\n",
    "\t\t\tdistance = geodesic.geodesic(p_loc, c_loc).mi\n",
    "\t\t\tif distance <= range:\n",
    "\t\t\t\tcharter_schools_dict[\"public_schools_in_range_gs_weight\"][charter] += public_schools_dict[\"gs_weight\"][public]\n",
    "\t\t\t\tcharter_schools_dict[\"public_schools_in_range_ps_weight\"][charter] += public_schools_dict[\"ps_weight\"][public]\n",
    "\t\t\t\tcharter_schools_dict[\"public_schools_in_range_total\"][charter] += float(public_schools_dict[\"enrollment\"][public])\n",
    "\t\t\t\t#print(charter_schools_dict[\"public_schools_in_range_total\"][charter])\n",
    "\n",
    "\tif charter_schools_dict[\"public_schools_in_range_total\"][charter] > 0:\n",
    "\t\tcharter_schools_dict[\"neighborhood_GS_score\"][charter] = charter_schools_dict[\"public_schools_in_range_gs_weight\"][charter]/charter_schools_dict[\"public_schools_in_range_total\"][charter]\n",
    "\t\tcharter_schools_dict[\"neighborhood_PS_score\"][charter] = charter_schools_dict[\"public_schools_in_range_ps_weight\"][charter]/charter_schools_dict[\"public_schools_in_range_total\"][charter]\n",
    "\telse:\n",
    "\t\tcharter_schools_dict[\"neighborhood_GS_score\"][charter] = 'NA'\n",
    "\t\tcharter_schools_dict[\"neighborhood_PS_score\"][charter] = 'NA'\n",
    "\n",
    "School_Neighbors = pandas.DataFrame.from_dict(charter_schools_dict)\n",
    "\n",
    "pickle.dump(School_Neighbors, open( \"School_Neighbors.pkl\", \"wb\" ) )"
   ]
  },
  {
   "cell_type": "code",
   "execution_count": null,
   "metadata": {},
   "outputs": [],
   "source": []
  }
 ],
 "metadata": {
  "kernelspec": {
   "display_name": "Python 3",
   "language": "python",
   "name": "python3"
  },
  "language_info": {
   "codemirror_mode": {
    "name": "ipython",
    "version": 3
   },
   "file_extension": ".py",
   "mimetype": "text/x-python",
   "name": "python",
   "nbconvert_exporter": "python",
   "pygments_lexer": "ipython3",
   "version": "3.7.5"
  }
 },
 "nbformat": 4,
 "nbformat_minor": 4
}
